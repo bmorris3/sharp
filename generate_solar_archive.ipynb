{
 "cells": [
  {
   "cell_type": "code",
   "execution_count": 5,
   "metadata": {},
   "outputs": [],
   "source": [
    "%matplotlib inline\n",
    "import matplotlib.pyplot as plt\n",
    "import numpy as np\n",
    "from astropy.io import fits\n",
    "\n",
    "import h5py\n",
    "from glob import glob"
   ]
  },
  {
   "cell_type": "code",
   "execution_count": 6,
   "metadata": {},
   "outputs": [],
   "source": [
    "paths = glob('/Users/bmmorris/data/harps/moon/*.fits')"
   ]
  },
  {
   "cell_type": "code",
   "execution_count": 7,
   "metadata": {},
   "outputs": [],
   "source": [
    "f = h5py.File(\"data/archive.hdf5\", 'w')"
   ]
  },
  {
   "cell_type": "code",
   "execution_count": 8,
   "metadata": {},
   "outputs": [
    {
     "name": "stderr",
     "output_type": "stream",
     "text": [
      "WARNING: File may have been truncated: actual file length (4615776) is smaller than the expected size (5264640) [astropy.io.fits.file]\n",
      "WARNING: File may have been truncated: actual file length (441936) is smaller than the expected size (5264640) [astropy.io.fits.file]\n"
     ]
    }
   ],
   "source": [
    "for path in paths: \n",
    "    isot = path.split('/')[-1][4:-5]\n",
    "\n",
    "    try: \n",
    "        fitsfile = fits.getdata(path)\n",
    "\n",
    "        wl, fl = fitsfile['WAVE'], fitsfile['FLUX'] / np.nanmedian(fitsfile['FLUX'])\n",
    "\n",
    "        group = f.create_dataset(isot, data=np.vstack([wl, fl]))\n",
    "    except TypeError: \n",
    "        pass"
   ]
  },
  {
   "cell_type": "code",
   "execution_count": 9,
   "metadata": {},
   "outputs": [],
   "source": [
    "f.close()"
   ]
  },
  {
   "cell_type": "code",
   "execution_count": null,
   "metadata": {},
   "outputs": [],
   "source": []
  }
 ],
 "metadata": {
  "kernelspec": {
   "display_name": "Python 3",
   "language": "python",
   "name": "python3"
  },
  "language_info": {
   "codemirror_mode": {
    "name": "ipython",
    "version": 3
   },
   "file_extension": ".py",
   "mimetype": "text/x-python",
   "name": "python",
   "nbconvert_exporter": "python",
   "pygments_lexer": "ipython3",
   "version": "3.5.4"
  }
 },
 "nbformat": 4,
 "nbformat_minor": 2
}
