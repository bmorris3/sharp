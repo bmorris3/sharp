{
 "cells": [
  {
   "cell_type": "code",
   "execution_count": 1,
   "metadata": {},
   "outputs": [],
   "source": [
    "%matplotlib inline\n",
    "import matplotlib.pyplot as plt\n",
    "import numpy as np\n",
    "from astropy.io import fits\n",
    "\n",
    "import h5py\n",
    "from glob import glob"
   ]
  },
  {
   "cell_type": "code",
   "execution_count": 6,
   "metadata": {},
   "outputs": [],
   "source": [
    "paths = glob('/Users/bmmorris/data/harps/moon/*.fits')"
   ]
  },
  {
   "cell_type": "code",
   "execution_count": 7,
   "metadata": {},
   "outputs": [],
   "source": [
    "f = h5py.File(\"archive.hdf5\", \"w\")"
   ]
  },
  {
   "cell_type": "code",
   "execution_count": 8,
   "metadata": {},
   "outputs": [],
   "source": [
    "wl_min = 5000 #5590\n",
    "wl_max = 5610\n",
    "        \n",
    "for path in paths: \n",
    "    isot = path.split('/')[-1][4:-5]\n",
    "\n",
    "    try: \n",
    "        if isot not in list(f):\n",
    "            fitsfile = fits.getdata(path)\n",
    "\n",
    "            wl, fl = fitsfile['WAVE'], fitsfile['FLUX'] / np.nanmedian(fitsfile['FLUX'])\n",
    "\n",
    "            wl_range = ((wl < wl_max) & (wl > wl_min))\n",
    "            \n",
    "            group = f.create_dataset(isot, data=np.vstack([wl[wl_range], fl[wl_range]]), compression='lzf')\n",
    "    \n",
    "    except TypeError: \n",
    "        pass"
   ]
  },
  {
   "cell_type": "code",
   "execution_count": 9,
   "metadata": {},
   "outputs": [],
   "source": [
    "f.close()"
   ]
  },
  {
   "cell_type": "code",
   "execution_count": null,
   "metadata": {},
   "outputs": [],
   "source": []
  }
 ],
 "metadata": {
  "kernelspec": {
   "display_name": "Python 3",
   "language": "python",
   "name": "python3"
  },
  "language_info": {
   "codemirror_mode": {
    "name": "ipython",
    "version": 3
   },
   "file_extension": ".py",
   "mimetype": "text/x-python",
   "name": "python",
   "nbconvert_exporter": "python",
   "pygments_lexer": "ipython3",
   "version": "3.5.4"
  }
 },
 "nbformat": 4,
 "nbformat_minor": 2
}
