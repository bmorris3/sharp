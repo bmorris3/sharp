{
 "cells": [
  {
   "cell_type": "code",
   "execution_count": 1,
   "metadata": {},
   "outputs": [
    {
     "name": "stderr",
     "output_type": "stream",
     "text": [
      "Using TensorFlow backend.\n",
      "/Users/bmmorris/anaconda/lib/python3.5/importlib/_bootstrap.py:222: RuntimeWarning: compiletime version 3.6 of module 'tensorflow.python.framework.fast_tensor_util' does not match runtime version 3.5\n",
      "  return f(*args, **kwds)\n"
     ]
    }
   ],
   "source": [
    "%matplotlib inline\n",
    "import matplotlib.pyplot as plt\n",
    "import numpy as np\n",
    "from matplotlib.ticker import MultipleLocator\n",
    "\n",
    "\n",
    "import keras\n",
    "from keras.models import Sequential,Input,Model\n",
    "from keras.layers import Dense, Dropout, Flatten\n",
    "from keras.layers import Conv1D, MaxPooling1D\n",
    "from keras.layers.normalization import BatchNormalization\n",
    "from keras.layers.advanced_activations import LeakyReLU"
   ]
  },
  {
   "cell_type": "code",
   "execution_count": 121,
   "metadata": {},
   "outputs": [
    {
     "name": "stdout",
     "output_type": "stream",
     "text": [
      "[798. 725. 480.]\n",
      "[0 1 2]\n"
     ]
    },
    {
     "data": {
      "image/png": "[encoded data removed]",
      "text/plain": [
       "<Figure size 432x288 with 1 Axes>"
      ]
     },
     "metadata": {},
     "output_type": "display_data"
    }
   ],
   "source": [
    "spot_coverages = np.load('data/all_fs.npy')\n",
    "\n",
    "bin_edges = np.linspace(0, spot_coverages.max(), 4)\n",
    "\n",
    "n = plt.hist(spot_coverages, bin_edges)[0]; \n",
    "print(n)\n",
    "bin_inds = np.digitize(spot_coverages, bin_edges, right=True) - 1\n",
    "print(np.unique(bin_inds))"
   ]
  },
  {
   "cell_type": "code",
   "execution_count": 122,
   "metadata": {},
   "outputs": [
    {
     "name": "stdout",
     "output_type": "stream",
     "text": [
      "Training data shape :  (2003, 2000, 1) (2003,)\n",
      "Total number of outputs :  3\n",
      "Output classes :  [0 1 2]\n"
     ]
    }
   ],
   "source": [
    "train_X = np.load('data/residuals.npy')[:-1, :, np.newaxis]\n",
    "\n",
    "train_Y = bin_inds\n",
    "\n",
    "print('Training data shape : ', train_X.shape, train_Y.shape)\n",
    "\n",
    "# Find the unique numbers from the train labels\n",
    "classes = np.unique(train_Y)\n",
    "nClasses = len(classes)\n",
    "print('Total number of outputs : ', nClasses)\n",
    "print('Output classes : ', classes)\n",
    "\n",
    "train_X = train_X.astype('float32')\n",
    "\n",
    "from keras.utils import to_categorical\n",
    "\n",
    "train_Y_one_hot = to_categorical(train_Y)"
   ]
  },
  {
   "cell_type": "code",
   "execution_count": 123,
   "metadata": {},
   "outputs": [],
   "source": [
    "from sklearn.model_selection import train_test_split\n",
    "\n",
    "train_X, valid_X, train_label, valid_label = train_test_split(train_X, train_Y_one_hot, \n",
    "                                                              test_size=0.2, random_state=0)"
   ]
  },
  {
   "cell_type": "code",
   "execution_count": 124,
   "metadata": {},
   "outputs": [
    {
     "data": {
      "text/plain": [
       "array([644., 582., 376.], dtype=float32)"
      ]
     },
     "execution_count": 124,
     "metadata": {},
     "output_type": "execute_result"
    }
   ],
   "source": [
    "train_label.sum(0)"
   ]
  },
  {
   "cell_type": "code",
   "execution_count": 125,
   "metadata": {},
   "outputs": [
    {
     "data": {
      "text/plain": [
       "((1602, 2000, 1), (401, 2000, 1), (1602, 3), (401, 3))"
      ]
     },
     "execution_count": 125,
     "metadata": {},
     "output_type": "execute_result"
    }
   ],
   "source": [
    "train_X.shape,valid_X.shape,train_label.shape,valid_label.shape"
   ]
  },
  {
   "cell_type": "code",
   "execution_count": 126,
   "metadata": {},
   "outputs": [],
   "source": [
    "alpha = 0.1\n",
    "kernel_size = 5\n",
    "dropout_rate = 0.5\n",
    "activation = 'linear'\n",
    "padding = 'same'\n",
    "\n",
    "batch_size = 64\n",
    "epochs = 75\n",
    "num_classes = train_Y_one_hot.shape[1]\n",
    "\n",
    "model = Sequential()\n",
    "\n",
    "# First layer\n",
    "model.add(Conv1D(filters=32, kernel_size=kernel_size, activation=activation, \n",
    "                 input_shape=(train_X.shape[1], 1), padding=padding))\n",
    "model.add(LeakyReLU(alpha=alpha))\n",
    "model.add(MaxPooling1D(2, padding=padding))\n",
    "model.add(BatchNormalization())\n",
    "model.add(Dropout(dropout_rate))\n",
    "\n",
    "# # Second layer\n",
    "# model.add(Conv1D(filters=64, kernel_size=kernel_size, \n",
    "#                  activation=activation, padding=padding))\n",
    "# model.add(LeakyReLU(alpha=alpha))\n",
    "# model.add(MaxPooling1D(pool_size=2, padding=padding))\n",
    "# model.add(BatchNormalization())\n",
    "# model.add(Dropout(dropout_rate))\n",
    "\n",
    "# # Third layer\n",
    "# model.add(Conv1D(filters=128, kernel_size=kernel_size, \n",
    "#                  activation=activation, padding=padding))\n",
    "# model.add(LeakyReLU(alpha=alpha))                  \n",
    "# model.add(MaxPooling1D(pool_size=2, padding=padding))\n",
    "# model.add(BatchNormalization())\n",
    "# model.add(Dropout(dropout_rate))\n",
    "\n",
    "# # fourth layer\n",
    "# model.add(Conv1D(filters=128, kernel_size=kernel_size, \n",
    "#                  activation=activation, padding=padding))\n",
    "# model.add(LeakyReLU(alpha=alpha))                  \n",
    "# model.add(MaxPooling1D(pool_size=2, padding=padding))\n",
    "# model.add(BatchNormalization())\n",
    "# model.add(Dropout(dropout_rate))\n",
    "\n",
    "# Fully connected layer 1\n",
    "model.add(Flatten())\n",
    "model.add(Dense(128, activation=activation))\n",
    "model.add(LeakyReLU(alpha=alpha))\n",
    "\n",
    "# Fully connected layer 2\n",
    "model.add(Dense(128, activation=activation))\n",
    "model.add(LeakyReLU(alpha=alpha))\n",
    "\n",
    "# Fully connected layer 2\n",
    "# model.add(Dropout(0.3))\n",
    "model.add(Dense(num_classes, activation='softmax'))"
   ]
  },
  {
   "cell_type": "code",
   "execution_count": 127,
   "metadata": {},
   "outputs": [
    {
     "name": "stdout",
     "output_type": "stream",
     "text": [
      "_________________________________________________________________\n",
      "Layer (type)                 Output Shape              Param #   \n",
      "=================================================================\n",
      "conv1d_64 (Conv1D)           (None, 2000, 32)          192       \n",
      "_________________________________________________________________\n",
      "leaky_re_lu_81 (LeakyReLU)   (None, 2000, 32)          0         \n",
      "_________________________________________________________________\n",
      "max_pooling1d_64 (MaxPooling (None, 1000, 32)          0         \n",
      "_________________________________________________________________\n",
      "batch_normalization_64 (Batc (None, 1000, 32)          128       \n",
      "_________________________________________________________________\n",
      "dropout_64 (Dropout)         (None, 1000, 32)          0         \n",
      "_________________________________________________________________\n",
      "flatten_16 (Flatten)         (None, 32000)             0         \n",
      "_________________________________________________________________\n",
      "dense_29 (Dense)             (None, 128)               4096128   \n",
      "_________________________________________________________________\n",
      "leaky_re_lu_82 (LeakyReLU)   (None, 128)               0         \n",
      "_________________________________________________________________\n",
      "dense_30 (Dense)             (None, 128)               16512     \n",
      "_________________________________________________________________\n",
      "leaky_re_lu_83 (LeakyReLU)   (None, 128)               0         \n",
      "_________________________________________________________________\n",
      "dense_31 (Dense)             (None, 3)                 387       \n",
      "=================================================================\n",
      "Total params: 4,113,347\n",
      "Trainable params: 4,113,283\n",
      "Non-trainable params: 64\n",
      "_________________________________________________________________\n"
     ]
    }
   ],
   "source": [
    "model.compile(loss=keras.losses.categorical_crossentropy, \n",
    "              optimizer=keras.optimizers.Adam(),\n",
    "              metrics=['accuracy'])\n",
    "model.summary()"
   ]
  },
  {
   "cell_type": "code",
   "execution_count": 128,
   "metadata": {},
   "outputs": [
    {
     "name": "stdout",
     "output_type": "stream",
     "text": [
      "Train on 1602 samples, validate on 401 samples\n",
      "Epoch 1/75\n",
      "1602/1602 [==============================] - 8s 5ms/step - loss: 9.0772 - acc: 0.3708 - val_loss: 9.7598 - val_acc: 0.3791\n",
      "Epoch 2/75\n",
      "1602/1602 [==============================] - 3s 2ms/step - loss: 9.6993 - acc: 0.3752 - val_loss: 9.7567 - val_acc: 0.3716\n",
      "Epoch 3/75\n",
      "1602/1602 [==============================] - 3s 2ms/step - loss: 9.6920 - acc: 0.3808 - val_loss: 9.7472 - val_acc: 0.3791\n",
      "Epoch 4/75\n",
      "1602/1602 [==============================] - 3s 2ms/step - loss: 9.6944 - acc: 0.3795 - val_loss: 9.7286 - val_acc: 0.3791\n",
      "Epoch 5/75\n",
      "1602/1602 [==============================] - 3s 2ms/step - loss: 9.6921 - acc: 0.3745 - val_loss: 9.7297 - val_acc: 0.3791\n",
      "Epoch 6/75\n",
      "1602/1602 [==============================] - 3s 2ms/step - loss: 9.6886 - acc: 0.3795 - val_loss: 9.7312 - val_acc: 0.3716\n",
      "Epoch 7/75\n",
      "1602/1602 [==============================] - 3s 2ms/step - loss: 9.6881 - acc: 0.3801 - val_loss: 9.7199 - val_acc: 0.3840\n",
      "Epoch 8/75\n",
      "1602/1602 [==============================] - 3s 2ms/step - loss: 9.6939 - acc: 0.3758 - val_loss: 9.7385 - val_acc: 0.3716\n",
      "Epoch 9/75\n",
      "1602/1602 [==============================] - 3s 2ms/step - loss: 9.6899 - acc: 0.3764 - val_loss: 9.7243 - val_acc: 0.3865\n",
      "Epoch 10/75\n",
      "1602/1602 [==============================] - 3s 2ms/step - loss: 9.6833 - acc: 0.3826 - val_loss: 9.7360 - val_acc: 0.3791\n",
      "Epoch 11/75\n",
      "1602/1602 [==============================] - 3s 2ms/step - loss: 9.6847 - acc: 0.3814 - val_loss: 9.7339 - val_acc: 0.3791\n",
      "Epoch 12/75\n",
      "1602/1602 [==============================] - 3s 2ms/step - loss: 9.6834 - acc: 0.3839 - val_loss: 9.7301 - val_acc: 0.3865\n",
      "Epoch 13/75\n",
      "1602/1602 [==============================] - 3s 2ms/step - loss: 9.6925 - acc: 0.3808 - val_loss: 9.7553 - val_acc: 0.3791\n",
      "Epoch 14/75\n",
      "1602/1602 [==============================] - 3s 2ms/step - loss: 8.6670 - acc: 0.3920 - val_loss: 1.1301 - val_acc: 0.4863\n",
      "Epoch 15/75\n",
      "1602/1602 [==============================] - 3s 2ms/step - loss: 0.9549 - acc: 0.5487 - val_loss: 1.2506 - val_acc: 0.4015\n",
      "Epoch 16/75\n",
      "1602/1602 [==============================] - 3s 2ms/step - loss: 0.8071 - acc: 0.6261 - val_loss: 2.1299 - val_acc: 0.4065\n",
      "Epoch 17/75\n",
      "1602/1602 [==============================] - 3s 2ms/step - loss: 0.6934 - acc: 0.7378 - val_loss: 1.6306 - val_acc: 0.4140\n",
      "Epoch 18/75\n",
      "1602/1602 [==============================] - 3s 2ms/step - loss: 0.6202 - acc: 0.7522 - val_loss: 1.5661 - val_acc: 0.4314\n",
      "Epoch 19/75\n",
      "1602/1602 [==============================] - 3s 2ms/step - loss: 0.6104 - acc: 0.7428 - val_loss: 1.0446 - val_acc: 0.5112\n",
      "Epoch 20/75\n",
      "1602/1602 [==============================] - 3s 2ms/step - loss: 0.5964 - acc: 0.7366 - val_loss: 0.7031 - val_acc: 0.7057\n",
      "Epoch 21/75\n",
      "1602/1602 [==============================] - 4s 2ms/step - loss: 0.5998 - acc: 0.7472 - val_loss: 0.7377 - val_acc: 0.6459\n",
      "Epoch 22/75\n",
      "1602/1602 [==============================] - 3s 2ms/step - loss: 0.5255 - acc: 0.7815 - val_loss: 0.6878 - val_acc: 0.6958\n",
      "Epoch 23/75\n",
      "1602/1602 [==============================] - 3s 2ms/step - loss: 0.5585 - acc: 0.7578 - val_loss: 0.5981 - val_acc: 0.7431\n",
      "Epoch 24/75\n",
      "1602/1602 [==============================] - 3s 2ms/step - loss: 0.4840 - acc: 0.7953 - val_loss: 0.4961 - val_acc: 0.7905\n",
      "Epoch 25/75\n",
      "1602/1602 [==============================] - 3s 2ms/step - loss: 0.4727 - acc: 0.8059 - val_loss: 0.5229 - val_acc: 0.8030\n",
      "Epoch 26/75\n",
      "1602/1602 [==============================] - 3s 2ms/step - loss: 0.4546 - acc: 0.8059 - val_loss: 0.5323 - val_acc: 0.7581\n",
      "Epoch 27/75\n",
      "1602/1602 [==============================] - 4s 2ms/step - loss: 0.4572 - acc: 0.8077 - val_loss: 0.4927 - val_acc: 0.8055\n",
      "Epoch 28/75\n",
      "1602/1602 [==============================] - 4s 3ms/step - loss: 0.4700 - acc: 0.7928 - val_loss: 0.4427 - val_acc: 0.8180\n",
      "Epoch 29/75\n",
      "1602/1602 [==============================] - 3s 2ms/step - loss: 0.4365 - acc: 0.8109 - val_loss: 0.4503 - val_acc: 0.8155\n",
      "Epoch 30/75\n",
      "1602/1602 [==============================] - 3s 2ms/step - loss: 0.4426 - acc: 0.8159 - val_loss: 0.4339 - val_acc: 0.8204\n",
      "Epoch 31/75\n",
      "1602/1602 [==============================] - 3s 2ms/step - loss: 0.4329 - acc: 0.8140 - val_loss: 0.4339 - val_acc: 0.8155\n",
      "Epoch 32/75\n",
      "1602/1602 [==============================] - 3s 2ms/step - loss: 0.4195 - acc: 0.8040 - val_loss: 0.4106 - val_acc: 0.8329\n",
      "Epoch 33/75\n",
      "1602/1602 [==============================] - 3s 2ms/step - loss: 0.4232 - acc: 0.8190 - val_loss: 0.4216 - val_acc: 0.8005\n",
      "Epoch 34/75\n",
      "1602/1602 [==============================] - 4s 2ms/step - loss: 0.4081 - acc: 0.8171 - val_loss: 0.4415 - val_acc: 0.8454\n",
      "Epoch 35/75\n",
      "1602/1602 [==============================] - 3s 2ms/step - loss: 0.4116 - acc: 0.8246 - val_loss: 0.4066 - val_acc: 0.8479\n",
      "Epoch 36/75\n",
      "1602/1602 [==============================] - 3s 2ms/step - loss: 0.4067 - acc: 0.8171 - val_loss: 0.3915 - val_acc: 0.8379\n",
      "Epoch 37/75\n",
      "1602/1602 [==============================] - 4s 2ms/step - loss: 0.3826 - acc: 0.8352 - val_loss: 0.3730 - val_acc: 0.8279\n",
      "Epoch 38/75\n",
      "1602/1602 [==============================] - 3s 2ms/step - loss: 0.3881 - acc: 0.8371 - val_loss: 0.4431 - val_acc: 0.8130\n",
      "Epoch 39/75\n",
      "1602/1602 [==============================] - 3s 2ms/step - loss: 0.3992 - acc: 0.8221 - val_loss: 0.3736 - val_acc: 0.8155\n",
      "Epoch 40/75\n",
      "1602/1602 [==============================] - 3s 2ms/step - loss: 0.4077 - acc: 0.8302 - val_loss: 0.3946 - val_acc: 0.8105\n",
      "Epoch 41/75\n",
      "1602/1602 [==============================] - 3s 2ms/step - loss: 0.3646 - acc: 0.8396 - val_loss: 0.4000 - val_acc: 0.7930\n",
      "Epoch 42/75\n",
      "1602/1602 [==============================] - 3s 2ms/step - loss: 0.3642 - acc: 0.8333 - val_loss: 0.3682 - val_acc: 0.8429\n",
      "Epoch 43/75\n",
      "1602/1602 [==============================] - 3s 2ms/step - loss: 0.3790 - acc: 0.8290 - val_loss: 0.3713 - val_acc: 0.8479\n",
      "Epoch 44/75\n",
      "1602/1602 [==============================] - 3s 2ms/step - loss: 0.3788 - acc: 0.8252 - val_loss: 0.4191 - val_acc: 0.8229\n",
      "Epoch 45/75\n",
      "1602/1602 [==============================] - 3s 2ms/step - loss: 0.3652 - acc: 0.8321 - val_loss: 0.4006 - val_acc: 0.8254\n",
      "Epoch 46/75\n",
      "1602/1602 [==============================] - 3s 2ms/step - loss: 0.3871 - acc: 0.8315 - val_loss: 0.3961 - val_acc: 0.8155\n",
      "Epoch 47/75\n",
      "1602/1602 [==============================] - 3s 2ms/step - loss: 0.4149 - acc: 0.8134 - val_loss: 0.3885 - val_acc: 0.8229\n",
      "Epoch 48/75\n",
      "1602/1602 [==============================] - 3s 2ms/step - loss: 0.3615 - acc: 0.8452 - val_loss: 0.3534 - val_acc: 0.8603\n",
      "Epoch 49/75\n",
      "1602/1602 [==============================] - 3s 2ms/step - loss: 0.3590 - acc: 0.8315 - val_loss: 0.4028 - val_acc: 0.7955\n",
      "Epoch 50/75\n",
      "1602/1602 [==============================] - 3s 2ms/step - loss: 0.3777 - acc: 0.8365 - val_loss: 0.4182 - val_acc: 0.7781\n",
      "Epoch 51/75\n",
      "1602/1602 [==============================] - 3s 2ms/step - loss: 0.3569 - acc: 0.8358 - val_loss: 0.3325 - val_acc: 0.8554\n",
      "Epoch 52/75\n",
      "1602/1602 [==============================] - 3s 2ms/step - loss: 0.3188 - acc: 0.8571 - val_loss: 0.3245 - val_acc: 0.8803\n",
      "Epoch 53/75\n",
      "1602/1602 [==============================] - 3s 2ms/step - loss: 0.3271 - acc: 0.8502 - val_loss: 0.3418 - val_acc: 0.8379\n",
      "Epoch 54/75\n",
      "1602/1602 [==============================] - 3s 2ms/step - loss: 0.3665 - acc: 0.8302 - val_loss: 0.3656 - val_acc: 0.8080\n",
      "Epoch 55/75\n",
      "1602/1602 [==============================] - 3s 2ms/step - loss: 0.4101 - acc: 0.8202 - val_loss: 0.5066 - val_acc: 0.7606\n",
      "Epoch 56/75\n",
      "1602/1602 [==============================] - 3s 2ms/step - loss: 0.3783 - acc: 0.8321 - val_loss: 0.3487 - val_acc: 0.8479\n",
      "Epoch 57/75\n",
      "1602/1602 [==============================] - 3s 2ms/step - loss: 0.3190 - acc: 0.8596 - val_loss: 0.9380 - val_acc: 0.7282\n",
      "Epoch 58/75\n",
      "1602/1602 [==============================] - 3s 2ms/step - loss: 0.3371 - acc: 0.8502 - val_loss: 0.5056 - val_acc: 0.8055\n",
      "Epoch 59/75\n",
      "1602/1602 [==============================] - 3s 2ms/step - loss: 0.3591 - acc: 0.8421 - val_loss: 0.4503 - val_acc: 0.8105\n",
      "Epoch 60/75\n",
      "1602/1602 [==============================] - 3s 2ms/step - loss: 0.3369 - acc: 0.8377 - val_loss: 0.3693 - val_acc: 0.8304\n",
      "Epoch 61/75\n",
      "1602/1602 [==============================] - 3s 2ms/step - loss: 0.3100 - acc: 0.8608 - val_loss: 0.3741 - val_acc: 0.8329\n",
      "Epoch 62/75\n",
      "1602/1602 [==============================] - 3s 2ms/step - loss: 0.3306 - acc: 0.8458 - val_loss: 0.3519 - val_acc: 0.8454\n",
      "Epoch 63/75\n",
      "1602/1602 [==============================] - 3s 2ms/step - loss: 0.3120 - acc: 0.8558 - val_loss: 0.4125 - val_acc: 0.8379\n",
      "Epoch 64/75\n",
      "1602/1602 [==============================] - 4s 2ms/step - loss: 0.3028 - acc: 0.8620 - val_loss: 0.3634 - val_acc: 0.8354\n",
      "Epoch 65/75\n",
      "1602/1602 [==============================] - 3s 2ms/step - loss: 0.3067 - acc: 0.8689 - val_loss: 0.3042 - val_acc: 0.8429\n",
      "Epoch 66/75\n",
      "1602/1602 [==============================] - 4s 2ms/step - loss: 0.2933 - acc: 0.8683 - val_loss: 0.3263 - val_acc: 0.8479\n",
      "Epoch 67/75\n",
      "1602/1602 [==============================] - 3s 2ms/step - loss: 0.3507 - acc: 0.8471 - val_loss: 0.3188 - val_acc: 0.8529\n",
      "Epoch 68/75\n",
      "1602/1602 [==============================] - 3s 2ms/step - loss: 0.3165 - acc: 0.8539 - val_loss: 0.3403 - val_acc: 0.8529\n",
      "Epoch 69/75\n",
      "1602/1602 [==============================] - 3s 2ms/step - loss: 0.2947 - acc: 0.8602 - val_loss: 0.3379 - val_acc: 0.8404\n",
      "Epoch 70/75\n",
      "1602/1602 [==============================] - 3s 2ms/step - loss: 0.3021 - acc: 0.8639 - val_loss: 0.3472 - val_acc: 0.8529\n",
      "Epoch 71/75\n",
      "1602/1602 [==============================] - 3s 2ms/step - loss: 0.3088 - acc: 0.8670 - val_loss: 0.3287 - val_acc: 0.8529\n",
      "Epoch 72/75\n",
      "1602/1602 [==============================] - 3s 2ms/step - loss: 0.2800 - acc: 0.8720 - val_loss: 0.3036 - val_acc: 0.8653\n",
      "Epoch 73/75\n",
      "1602/1602 [==============================] - 3s 2ms/step - loss: 0.2798 - acc: 0.8708 - val_loss: 0.2865 - val_acc: 0.8728\n",
      "Epoch 74/75\n",
      "1602/1602 [==============================] - 4s 2ms/step - loss: 0.2793 - acc: 0.8677 - val_loss: 0.3218 - val_acc: 0.8853\n",
      "Epoch 75/75\n",
      "1602/1602 [==============================] - 4s 2ms/step - loss: 0.3877 - acc: 0.8315 - val_loss: 0.7132 - val_acc: 0.7382\n"
     ]
    }
   ],
   "source": [
    "train = model.fit(train_X, train_label, batch_size=batch_size, \n",
    "                  epochs=epochs, validation_data=(valid_X, valid_label))"
   ]
  },
  {
   "cell_type": "code",
   "execution_count": 129,
   "metadata": {},
   "outputs": [
    {
     "data": {
      "image/png": "[encoded data removed]",
      "text/plain": [
       "<Figure size 432x288 with 1 Axes>"
      ]
     },
     "metadata": {},
     "output_type": "display_data"
    },
    {
     "data": {
      "image/png": "[encoded data removed]",
      "text/plain": [
       "<Figure size 432x288 with 1 Axes>"
      ]
     },
     "metadata": {},
     "output_type": "display_data"
    }
   ],
   "source": [
    "accuracy = train.history['acc']\n",
    "val_accuracy = train.history['val_acc']\n",
    "loss = train.history['loss']\n",
    "val_loss = train.history['val_loss']\n",
    "epochs = range(len(accuracy))\n",
    "plt.plot(epochs, accuracy, 'bo', label='Training accuracy')\n",
    "plt.plot(epochs, val_accuracy, 'b', label='Validation accuracy')\n",
    "plt.title('Training and validation accuracy')\n",
    "plt.legend()\n",
    "plt.figure()\n",
    "plt.plot(epochs, loss, 'bo', label='Training loss')\n",
    "plt.plot(epochs, val_loss, 'b', label='Validation loss')\n",
    "plt.title('Training and validation loss')\n",
    "plt.legend()\n",
    "plt.show()"
   ]
  },
  {
   "cell_type": "code",
   "execution_count": 130,
   "metadata": {},
   "outputs": [],
   "source": [
    "model.save('data/model.hdf5')"
   ]
  },
  {
   "cell_type": "code",
   "execution_count": 131,
   "metadata": {},
   "outputs": [],
   "source": [
    "all_residuals = np.load('data/residuals.npy')[:-1, :, np.newaxis]\n",
    "wavelengths = np.load('data/residuals_wl.npy')\n",
    "pred_y = model.predict(all_residuals)"
   ]
  },
  {
   "cell_type": "code",
   "execution_count": 132,
   "metadata": {},
   "outputs": [],
   "source": [
    "low_spots = all_residuals[pred_y.argmax(1) == 0]\n",
    "mid_spots = all_residuals[pred_y.argmax(1) == 1]\n",
    "high_spots = all_residuals[pred_y.argmax(1) == 2]"
   ]
  },
  {
   "cell_type": "code",
   "execution_count": 133,
   "metadata": {},
   "outputs": [
    {
     "data": {
      "text/plain": [
       "array([0, 1, 2])"
      ]
     },
     "execution_count": 133,
     "metadata": {},
     "output_type": "execute_result"
    }
   ],
   "source": [
    "np.unique(pred_y.argmax(1))"
   ]
  },
  {
   "cell_type": "code",
   "execution_count": 137,
   "metadata": {},
   "outputs": [
    {
     "data": {
      "image/png": "[encoded data removed]",
      "text/plain": [
       "<Figure size 576x216 with 1 Axes>"
      ]
     },
     "metadata": {},
     "output_type": "display_data"
    }
   ],
   "source": [
    "fig, ax = plt.subplots(figsize=(8, 3), sharex=True)\n",
    "\n",
    "props = dict(alpha=1)\n",
    "\n",
    "ax.plot(wavelengths, np.median(low_spots[:, :, 0].T, axis=1), label='Few spots', **props);\n",
    "\n",
    "ax.plot(wavelengths, np.median(mid_spots[:, :, 0].T, axis=1), label='Some spots', **props);\n",
    "\n",
    "ax.plot(wavelengths, np.median(high_spots[:, :, 0].T, axis=1), ls='--', label='Many spots', **props);\n",
    "\n",
    "ax.xaxis.set_minor_locator(MultipleLocator(0.5))\n",
    "ax.set_xlim([5160, 5178])\n",
    "ax.set(xlabel='Wavelength [$\\AA$]', ylabel='Scaled Residuals')\n",
    "plt.legend()\n",
    "fig.savefig('plots/solar_categories.pdf', bbox_inches='tight')"
   ]
  },
  {
   "cell_type": "code",
   "execution_count": 102,
   "metadata": {},
   "outputs": [],
   "source": [
    "# fig, ax = plt.subplots(3, 1, figsize=(14, 4), sharex=True)\n",
    "\n",
    "# props = dict(alpha=0.01)\n",
    "\n",
    "# plt.plot(low_spots[:, :, 0].T, color='C0', **props);\n",
    "\n",
    "# plt.plot(mid_spots[:, :, 0].T, color='C1', **props);\n",
    "\n",
    "# plt.plot(high_spots[:, :, 0].T, color='C2', **props);"
   ]
  },
  {
   "cell_type": "code",
   "execution_count": null,
   "metadata": {},
   "outputs": [],
   "source": []
  }
 ],
 "metadata": {
  "kernelspec": {
   "display_name": "Python 3",
   "language": "python",
   "name": "python3"
  },
  "language_info": {
   "codemirror_mode": {
    "name": "ipython",
    "version": 3
   },
   "file_extension": ".py",
   "mimetype": "text/x-python",
   "name": "python",
   "nbconvert_exporter": "python",
   "pygments_lexer": "ipython3",
   "version": "3.5.4"
  }
 },
 "nbformat": 4,
 "nbformat_minor": 2
}
